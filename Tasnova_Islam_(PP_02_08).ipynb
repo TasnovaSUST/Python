{
  "nbformat": 4,
  "nbformat_minor": 0,
  "metadata": {
    "colab": {
      "provenance": [],
      "authorship_tag": "ABX9TyMwzMaX3xF5Y+HfsGZunB4Q",
      "include_colab_link": true
    },
    "kernelspec": {
      "name": "python3",
      "display_name": "Python 3"
    },
    "language_info": {
      "name": "python"
    }
  },
  "cells": [
    {
      "cell_type": "markdown",
      "metadata": {
        "id": "view-in-github",
        "colab_type": "text"
      },
      "source": [
        "<a href=\"https://colab.research.google.com/github/TasnovaSUST/Python/blob/main/Tasnova_Islam_(PP_02_08).ipynb\" target=\"_parent\"><img src=\"https://colab.research.google.com/assets/colab-badge.svg\" alt=\"Open In Colab\"/></a>"
      ]
    },
    {
      "cell_type": "markdown",
      "source": [
        "1. Grading System"
      ],
      "metadata": {
        "id": "yr95ddxkTFRB"
      }
    },
    {
      "cell_type": "code",
      "source": [
        "score = input(\"Enter employee's score: \")\n",
        "score = int(score)\n",
        "if score >= 90:\n",
        "    print('Excellent')\n",
        "elif score >= 80:\n",
        "    print('Very GOod')\n",
        "elif score >= 70:\n",
        "    print('Good')\n",
        "elif score >= 60:\n",
        "    print('Satisfactory')\n",
        "elif score < 60:\n",
        "    print('Needs Improvment')"
      ],
      "metadata": {
        "colab": {
          "base_uri": "https://localhost:8080/"
        },
        "id": "p5Qr6mX2G8OG",
        "outputId": "d07a8a0b-cfab-488a-d145-aed539ad669a"
      },
      "execution_count": 1,
      "outputs": [
        {
          "output_type": "stream",
          "name": "stdout",
          "text": [
            "Enter employee's score: 91\n",
            "Excellent\n"
          ]
        }
      ]
    },
    {
      "cell_type": "markdown",
      "source": [
        "2. Sum of odd number"
      ],
      "metadata": {
        "id": "-Vv28UVjIiYF"
      }
    },
    {
      "cell_type": "code",
      "source": [
        "# Sum of odd number_while loop\n",
        "odd_sum = 0\n",
        "n = input(\"Enter a number: \")\n",
        "n = int(n)\n",
        "if n < 0:\n",
        "    print(\"Invaild input. Please enter a positive integer\")\n",
        "else:\n",
        "    i = 1\n",
        "    while i <= n:\n",
        "        odd_sum = odd_sum + i\n",
        "        i = i + 2\n",
        "print(\"The sum of odd numbers is\", odd_sum)\n"
      ],
      "metadata": {
        "colab": {
          "base_uri": "https://localhost:8080/"
        },
        "id": "1mxQHGNEIhE2",
        "outputId": "3940acd6-993c-408b-c2ea-cb4812bd1428"
      },
      "execution_count": 7,
      "outputs": [
        {
          "output_type": "stream",
          "name": "stdout",
          "text": [
            "Enter a number: 10\n",
            "The sum of odd numbers is 25\n"
          ]
        }
      ]
    },
    {
      "cell_type": "markdown",
      "source": [
        "3.Regular Expression"
      ],
      "metadata": {
        "id": "mJXRnbWpLyQE"
      }
    },
    {
      "cell_type": "code",
      "source": [
        "x = \"banana\"\n",
        "y = \"Life is what happens when you're busy making other plans.\"\n",
        "import re\n",
        "\n",
        "# Find all occurrences of the letter 'a' in string x and print their positions\n",
        "x = \"banana\"\n",
        "for match in re.finditer(\"a\", x):\n",
        "    print(\"Letter 'a' found at position:\", match.start())\n",
        "\n",
        "# Replace the word \"what\" in string y with \"where\" and print the new string\n",
        "y = \"Life is what happens when you're busy making other plans.\"\n",
        "new_y = re.sub(\"what\", \"where\", y)\n",
        "print(\"Modified string:\", new_y)"
      ],
      "metadata": {
        "colab": {
          "base_uri": "https://localhost:8080/"
        },
        "id": "iS88v-WqM3_j",
        "outputId": "87ba59c3-8476-4ce3-f9c8-1b8a01acefe5"
      },
      "execution_count": 10,
      "outputs": [
        {
          "output_type": "stream",
          "name": "stdout",
          "text": [
            "Letter 'a' found at position: 1\n",
            "Letter 'a' found at position: 3\n",
            "Letter 'a' found at position: 5\n",
            "Modified string: Life is where happens when you're busy making other plans.\n"
          ]
        }
      ]
    },
    {
      "cell_type": "markdown",
      "source": [
        "5. NumPy"
      ],
      "metadata": {
        "id": "srk8VblZR-D5"
      }
    },
    {
      "cell_type": "code",
      "source": [
        "import numpy as np\n",
        "\n",
        "# Create a 3x3 array with random integers between 5 and 15\n",
        "arr = np.random.randint(5, 16, size=(3, 3))\n",
        "\n",
        "# Display the array\n",
        "print(\"Original Array:\")\n",
        "print(arr)\n",
        "\n",
        "# Transpose of the array\n",
        "transpose_arr = arr.T\n",
        "print(\"\\nTranspose of the Array:\")\n",
        "print(transpose_arr)\n",
        "\n",
        "# Sum of all elements in the array\n",
        "sum_of_elements = np.sum(arr)\n",
        "print(\"\\nSum of all elements:\", sum_of_elements)\n",
        "\n",
        "# Indices of elements greater than 10\n",
        "indices = np.where(arr > 10)\n",
        "print(\"\\nIndices of elements greater than 10:\")\n",
        "print(list(zip(indices[0], indices[1])))"
      ],
      "metadata": {
        "colab": {
          "base_uri": "https://localhost:8080/"
        },
        "id": "8Ftgr1jFPCi7",
        "outputId": "4349aeaf-51b0-475f-b78c-5ef22f2c2487"
      },
      "execution_count": 18,
      "outputs": [
        {
          "output_type": "stream",
          "name": "stdout",
          "text": [
            "Original Array:\n",
            "[[ 5  9 11]\n",
            " [ 5  7 12]\n",
            " [12 11 15]]\n",
            "\n",
            "Transpose of the Array:\n",
            "[[ 5  5 12]\n",
            " [ 9  7 11]\n",
            " [11 12 15]]\n",
            "\n",
            "Sum of all elements: 87\n",
            "\n",
            "Indices of elements greater than 10:\n",
            "[(0, 2), (1, 2), (2, 0), (2, 1), (2, 2)]\n"
          ]
        }
      ]
    },
    {
      "cell_type": "code",
      "source": [
        "arr > 10"
      ],
      "metadata": {
        "colab": {
          "base_uri": "https://localhost:8080/"
        },
        "id": "4UaUSkiDWRvQ",
        "outputId": "e90046d3-0962-4ac3-e42b-a2f6616a9a71"
      },
      "execution_count": 19,
      "outputs": [
        {
          "output_type": "execute_result",
          "data": {
            "text/plain": [
              "array([[False, False,  True],\n",
              "       [False, False,  True],\n",
              "       [ True,  True,  True]])"
            ]
          },
          "metadata": {},
          "execution_count": 19
        }
      ]
    },
    {
      "cell_type": "markdown",
      "source": [
        "4. File handing"
      ],
      "metadata": {
        "id": "XQ9_NV9gR0Nx"
      }
    },
    {
      "cell_type": "code",
      "source": [
        "with open(\"notes.txt\", \"w\") as file:\n",
        "    file.write(\"Programming is an essential skill in today's wprld.\")\n",
        "with open(\"notes.txt\", \"r\") as file:\n",
        "    content = file.read()\n",
        "print(content)"
      ],
      "metadata": {
        "colab": {
          "base_uri": "https://localhost:8080/"
        },
        "id": "zjIinS_pQgcB",
        "outputId": "45bc54ad-85a5-4876-f54b-2c8607febcae"
      },
      "execution_count": 15,
      "outputs": [
        {
          "output_type": "stream",
          "name": "stdout",
          "text": [
            "Programming is an essential skill in today's wprld.\n"
          ]
        }
      ]
    },
    {
      "cell_type": "code",
      "source": [
        "import os\n",
        "os.remove(\"notes.txt\")"
      ],
      "metadata": {
        "id": "iIKa31J_Rbt6"
      },
      "execution_count": 16,
      "outputs": []
    }
  ]
}