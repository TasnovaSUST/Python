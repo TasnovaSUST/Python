{
  "nbformat": 4,
  "nbformat_minor": 0,
  "metadata": {
    "colab": {
      "provenance": [],
      "authorship_tag": "ABX9TyMpwdvuHyoubdMLFKm2AOTq",
      "include_colab_link": true
    },
    "kernelspec": {
      "name": "python3",
      "display_name": "Python 3"
    },
    "language_info": {
      "name": "python"
    }
  },
  "cells": [
    {
      "cell_type": "markdown",
      "metadata": {
        "id": "view-in-github",
        "colab_type": "text"
      },
      "source": [
        "<a href=\"https://colab.research.google.com/github/TasnovaSUST/Python/blob/main/Play_with_Loop.ipynb\" target=\"_parent\"><img src=\"https://colab.research.google.com/assets/colab-badge.svg\" alt=\"Open In Colab\"/></a>"
      ]
    },
    {
      "cell_type": "code",
      "source": [
        "for i in range(4):\n",
        "    for j in range(4):\n",
        "        print('*', end= \" \")\n",
        "    print()"
      ],
      "metadata": {
        "colab": {
          "base_uri": "https://localhost:8080/"
        },
        "id": "mmeUGa-vEaBb",
        "outputId": "775d4b9e-1ea7-4360-f9ea-d6cfa81a6b92"
      },
      "execution_count": 1,
      "outputs": [
        {
          "output_type": "stream",
          "name": "stdout",
          "text": [
            "* * * * \n",
            "* * * * \n",
            "* * * * \n",
            "* * * * \n"
          ]
        }
      ]
    },
    {
      "cell_type": "code",
      "source": [
        "for i in range(3):\n",
        "    for j in range(3):\n",
        "        if i == j or i > j:\n",
        "            print('*', end= \"\")\n",
        "    print()\n",
        "    if (i+j) != 5:\n",
        "         print('*', end= \"\")\n",
        "print()"
      ],
      "metadata": {
        "colab": {
          "base_uri": "https://localhost:8080/"
        },
        "id": "AXa1d9jSEuy5",
        "outputId": "7bfe606b-d6e9-4ffe-a9b4-c9173abc7e7b"
      },
      "execution_count": 2,
      "outputs": [
        {
          "output_type": "stream",
          "name": "stdout",
          "text": [
            "*\n",
            "***\n",
            "****\n",
            "*\n"
          ]
        }
      ]
    },
    {
      "cell_type": "code",
      "source": [
        "for i in range(3):\n",
        "    for j in range(3):\n",
        "        if i + j <= 4 and i >= j:\n",
        "            print('*', end= \" \")\n",
        "    print()\n"
      ],
      "metadata": {
        "colab": {
          "base_uri": "https://localhost:8080/"
        },
        "id": "bFXIoGGsE3Mo",
        "outputId": "3c618977-605e-4562-908d-55f628d0418c"
      },
      "execution_count": 3,
      "outputs": [
        {
          "output_type": "stream",
          "name": "stdout",
          "text": [
            "* \n",
            "* * \n",
            "* * * \n"
          ]
        }
      ]
    },
    {
      "cell_type": "code",
      "source": [
        "for i in range(5):\n",
        "    for j in range(3):\n",
        "        if ( (i + j) <= 4 ) and ( i >= j ):\n",
        "            print('*', end= \" \")\n",
        "    print()"
      ],
      "metadata": {
        "colab": {
          "base_uri": "https://localhost:8080/"
        },
        "id": "NTikQxNBFAfQ",
        "outputId": "14a102b8-f352-4df8-ac38-976aa725e503"
      },
      "execution_count": 4,
      "outputs": [
        {
          "output_type": "stream",
          "name": "stdout",
          "text": [
            "* \n",
            "* * \n",
            "* * * \n",
            "* * \n",
            "* \n"
          ]
        }
      ]
    },
    {
      "cell_type": "code",
      "source": [
        "for i in range(9):\n",
        "    for j in range(5):\n",
        "        if ( (i + j) <= 8 ) and ( i >= j ):\n",
        "            print('*', end= \" \")\n",
        "    print()"
      ],
      "metadata": {
        "colab": {
          "base_uri": "https://localhost:8080/"
        },
        "id": "gN0yWqirFHb5",
        "outputId": "4c9e8432-7bb5-4826-8048-ec1938e1b362"
      },
      "execution_count": 5,
      "outputs": [
        {
          "output_type": "stream",
          "name": "stdout",
          "text": [
            "* \n",
            "* * \n",
            "* * * \n",
            "* * * * \n",
            "* * * * * \n",
            "* * * * \n",
            "* * * \n",
            "* * \n",
            "* \n"
          ]
        }
      ]
    },
    {
      "cell_type": "code",
      "source": [
        "for i in range(-2, 3):\n",
        "    for j in range(-2, 3):\n",
        "        if (abs(i) + abs(j)) > 2:\n",
        "            print(end=\"   \")\n",
        "        else:\n",
        "            print(' * ', end=\"\")\n",
        "    print()\n"
      ],
      "metadata": {
        "colab": {
          "base_uri": "https://localhost:8080/"
        },
        "id": "JubAWcRoFLqY",
        "outputId": "4c6d8e05-fb94-43df-d46b-5b2913b51e90"
      },
      "execution_count": 6,
      "outputs": [
        {
          "output_type": "stream",
          "name": "stdout",
          "text": [
            "       *       \n",
            "    *  *  *    \n",
            " *  *  *  *  * \n",
            "    *  *  *    \n",
            "       *       \n"
          ]
        }
      ]
    },
    {
      "cell_type": "code",
      "source": [
        "for i in range(-2, 3):\n",
        "    for j in range(-2, 3):\n",
        "        if (abs(i) + abs(j)) > 2:\n",
        "            print(end=\"   \")\n",
        "        else:\n",
        "            print(' * ', end=\"\")\n",
        "    print()\n"
      ],
      "metadata": {
        "colab": {
          "base_uri": "https://localhost:8080/"
        },
        "id": "CGIxQffPFNRY",
        "outputId": "71f08825-8263-4ad6-dffc-29cc1f93812d"
      },
      "execution_count": 7,
      "outputs": [
        {
          "output_type": "stream",
          "name": "stdout",
          "text": [
            "       *       \n",
            "    *  *  *    \n",
            " *  *  *  *  * \n",
            "    *  *  *    \n",
            "       *       \n"
          ]
        }
      ]
    },
    {
      "cell_type": "code",
      "source": [
        "for i in range(-10, 11):\n",
        "    for j in range(-10, 11):\n",
        "        if (abs(i) + abs(j)) > 10:\n",
        "            print(end=\"   \")\n",
        "        else:\n",
        "            print(' * ', end=\"\")\n",
        "    print()\n",
        "    # test for scaling"
      ],
      "metadata": {
        "colab": {
          "base_uri": "https://localhost:8080/"
        },
        "id": "a3l3ds3pFaTx",
        "outputId": "f4d591a7-50d8-4aa4-d35f-fd9fe8b98c4e"
      },
      "execution_count": 8,
      "outputs": [
        {
          "output_type": "stream",
          "name": "stdout",
          "text": [
            "                               *                               \n",
            "                            *  *  *                            \n",
            "                         *  *  *  *  *                         \n",
            "                      *  *  *  *  *  *  *                      \n",
            "                   *  *  *  *  *  *  *  *  *                   \n",
            "                *  *  *  *  *  *  *  *  *  *  *                \n",
            "             *  *  *  *  *  *  *  *  *  *  *  *  *             \n",
            "          *  *  *  *  *  *  *  *  *  *  *  *  *  *  *          \n",
            "       *  *  *  *  *  *  *  *  *  *  *  *  *  *  *  *  *       \n",
            "    *  *  *  *  *  *  *  *  *  *  *  *  *  *  *  *  *  *  *    \n",
            " *  *  *  *  *  *  *  *  *  *  *  *  *  *  *  *  *  *  *  *  * \n",
            "    *  *  *  *  *  *  *  *  *  *  *  *  *  *  *  *  *  *  *    \n",
            "       *  *  *  *  *  *  *  *  *  *  *  *  *  *  *  *  *       \n",
            "          *  *  *  *  *  *  *  *  *  *  *  *  *  *  *          \n",
            "             *  *  *  *  *  *  *  *  *  *  *  *  *             \n",
            "                *  *  *  *  *  *  *  *  *  *  *                \n",
            "                   *  *  *  *  *  *  *  *  *                   \n",
            "                      *  *  *  *  *  *  *                      \n",
            "                         *  *  *  *  *                         \n",
            "                            *  *  *                            \n",
            "                               *                               \n"
          ]
        }
      ]
    },
    {
      "cell_type": "code",
      "source": [
        "size = 8\n",
        "\n",
        "#Nested for loops to draw a figure(find out the figure)\n",
        "for i in range(size):\n",
        "  for j in range(size):\n",
        "    if i == 0 or i == size - 1 or j == 0 or j == size -1 :\n",
        "      print(\"*\", end=\"\")\n",
        "    else:\n",
        "      print(\" \", end=\"\")\n",
        "  print()"
      ],
      "metadata": {
        "colab": {
          "base_uri": "https://localhost:8080/"
        },
        "id": "MX8ooVbiFlqP",
        "outputId": "c086ff3a-7a38-443b-fad6-26aab0f4cee3"
      },
      "execution_count": 9,
      "outputs": [
        {
          "output_type": "stream",
          "name": "stdout",
          "text": [
            "********\n",
            "*      *\n",
            "*      *\n",
            "*      *\n",
            "*      *\n",
            "*      *\n",
            "*      *\n",
            "********\n"
          ]
        }
      ]
    },
    {
      "cell_type": "code",
      "source": [
        "for i in range(3):\n",
        "  for j in range(3):\n",
        "    if i == j:\n",
        "      print(\"*\", end=\"\")\n",
        "    else:\n",
        "      print(\"_\",end=\"\")\n",
        "  print()"
      ],
      "metadata": {
        "colab": {
          "base_uri": "https://localhost:8080/"
        },
        "id": "KJwqkrRiFoV_",
        "outputId": "3f099840-f361-4dee-82e7-b493e010b0b1"
      },
      "execution_count": 10,
      "outputs": [
        {
          "output_type": "stream",
          "name": "stdout",
          "text": [
            "*__\n",
            "_*_\n",
            "__*\n"
          ]
        }
      ]
    }
  ]
}