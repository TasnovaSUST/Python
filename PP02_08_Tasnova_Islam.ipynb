{
  "nbformat": 4,
  "nbformat_minor": 0,
  "metadata": {
    "colab": {
      "provenance": [],
      "authorship_tag": "ABX9TyNezDw3BOQZcCDUt689aLJr",
      "include_colab_link": true
    },
    "kernelspec": {
      "name": "python3",
      "display_name": "Python 3"
    },
    "language_info": {
      "name": "python"
    }
  },
  "cells": [
    {
      "cell_type": "markdown",
      "metadata": {
        "id": "view-in-github",
        "colab_type": "text"
      },
      "source": [
        "<a href=\"https://colab.research.google.com/github/TasnovaSUST/Python/blob/main/PP02_08_Tasnova_Islam.ipynb\" target=\"_parent\"><img src=\"https://colab.research.google.com/assets/colab-badge.svg\" alt=\"Open In Colab\"/></a>"
      ]
    },
    {
      "cell_type": "code",
      "source": [
        "\n",
        "\n",
        "#Get user input\n",
        "user_name = input(\"Enter your name: \")\n",
        "user_age = input(\"Enter your age: \")\n",
        "\n",
        "#Print the user details\n",
        "print(\"Hello, \"+ user_name + \"!\")\n",
        "print(\"You are\" + str(user_age) + \" years old.\")\n",
        "\n",
        "#Calculate and print the age in 10 years\n",
        "\n",
        "age_in_10_years = int(user_age) + 10\n",
        "print(\"In 10 years, you will be\" + str(age_in_10_years) + \"years old.\")"
      ],
      "metadata": {
        "colab": {
          "base_uri": "https://localhost:8080/"
        },
        "id": "NnCXJrmbKF4L",
        "outputId": "97c28de8-4d41-4c90-d234-1f929f12dd39"
      },
      "execution_count": null,
      "outputs": [
        {
          "output_type": "stream",
          "name": "stdout",
          "text": [
            "Enter your name: Tasnova Islam\n",
            "Enter your age: 23\n",
            "Hello, Tasnova Islam!\n",
            "You are23 years old.\n",
            "In 10 years, you will be33years old.\n"
          ]
        }
      ]
    },
    {
      "cell_type": "code",
      "source": [
        "name = input(\"Enter your name: \")\n",
        "trimed_name = name.strip()\n",
        "print('Trimed name:', trimed_name)\n",
        "words = trimed_name.split()\n",
        "print(\"words:\", words)\n",
        "print(\"Number of words\", len(words))\n",
        "\n",
        "#convert the string to the title case\n",
        "title_case_name = trimed_name.title()\n",
        "print(\"Title case name:\", title_case_name)\n",
        "\n",
        "#print the first 5 characters.\n",
        "first_5_characters = trimed_name[:5]\n",
        "print(\"First 5 characters:\", first_5_characters)\n",
        "\n",
        "\n",
        "if trimed_name.endswith(\".\"):\n",
        "  print(\"The string ends with a period.\")\n",
        "else:\n",
        "  print(\"The string does not end with a period.\")\n",
        "\n",
        "\n",
        "print(\"A perfect sentence!\")\n"
      ],
      "metadata": {
        "colab": {
          "base_uri": "https://localhost:8080/"
        },
        "id": "_xVC-8vXOJmL",
        "outputId": "45f58d59-7ea3-4b17-8852-67cfae41000a"
      },
      "execution_count": null,
      "outputs": [
        {
          "output_type": "stream",
          "name": "stdout",
          "text": [
            "Enter your name: I am pp02\n",
            "Trimed name: I am pp02\n",
            "words: ['I', 'am', 'pp02']\n",
            "Number of words 3\n",
            "Title case name: I Am Pp02\n",
            "First 5 characters: I am \n",
            "The string does not end with a period.\n",
            "A perfect sentence!\n"
          ]
        }
      ]
    },
    {
      "cell_type": "code",
      "source": [
        "size = 8\n",
        "\n",
        "#Nested for loops to draw a figure(find out the figure)\n",
        "for i in range(size):\n",
        "  for j in range(size):\n",
        "    if i == 0 or i == size - 1 or j == 0 or j == size -1 :\n",
        "      print(\"*\", end=\"\")\n",
        "    else:\n",
        "      print(\" \", end=\"\")\n",
        "  print()"
      ],
      "metadata": {
        "colab": {
          "base_uri": "https://localhost:8080/"
        },
        "id": "t5maWZOxPakb",
        "outputId": "bc6f8743-b515-4d79-94b1-dcb4ac490c92"
      },
      "execution_count": null,
      "outputs": [
        {
          "output_type": "stream",
          "name": "stdout",
          "text": [
            "********\n",
            "*      *\n",
            "*      *\n",
            "*      *\n",
            "*      *\n",
            "*      *\n",
            "*      *\n",
            "********\n"
          ]
        }
      ]
    }
  ]
}