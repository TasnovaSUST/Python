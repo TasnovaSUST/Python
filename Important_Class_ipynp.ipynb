{
  "cells": [
    {
      "cell_type": "markdown",
      "metadata": {
        "id": "view-in-github",
        "colab_type": "text"
      },
      "source": [
        "<a href=\"https://colab.research.google.com/github/TasnovaSUST/Python/blob/main/Important_Class_ipynp.ipynb\" target=\"_parent\"><img src=\"https://colab.research.google.com/assets/colab-badge.svg\" alt=\"Open In Colab\"/></a>"
      ]
    },
    {
      "cell_type": "code",
      "execution_count": null,
      "metadata": {
        "colab": {
          "base_uri": "https://localhost:8080/"
        },
        "id": "qXtqGmJNQS5O",
        "outputId": "e301bfdc-9c44-472d-b910-f37ca5f33299"
      },
      "outputs": [
        {
          "output_type": "stream",
          "name": "stdout",
          "text": [
            "i am not tasnova.\n",
            "      i am not tasnova.       \n"
          ]
        }
      ],
      "source": [
        "'student_name = '      i am not tasnova.       '\n",
        "print(student_name.strip())\n",
        "print(student_name.capitalize())"
      ]
    },
    {
      "cell_type": "code",
      "source": [
        "num = 10\n",
        "if num%2 == 0:\n",
        " print(\"even\")\n",
        "else:\n",
        "  print(\"odd\")"
      ],
      "metadata": {
        "colab": {
          "base_uri": "https://localhost:8080/"
        },
        "id": "JiDUdI-XuC2H",
        "outputId": "3c5847b2-f84f-4bf6-d33a-5eb014181471"
      },
      "execution_count": null,
      "outputs": [
        {
          "output_type": "stream",
          "name": "stdout",
          "text": [
            "even\n"
          ]
        }
      ]
    },
    {
      "cell_type": "code",
      "source": [
        "for i in range(3,4):\n",
        " for j in range(1,11):\n",
        "  print(f\"{i} * {j} = {i*j}\")"
      ],
      "metadata": {
        "colab": {
          "base_uri": "https://localhost:8080/"
        },
        "id": "Y9-0DrTewBQz",
        "outputId": "e3abfd6d-6f54-49e6-af72-26a1631ce063"
      },
      "execution_count": null,
      "outputs": [
        {
          "output_type": "stream",
          "name": "stdout",
          "text": [
            "3 * 1 = 3\n",
            "3 * 2 = 6\n",
            "3 * 3 = 9\n",
            "3 * 4 = 12\n",
            "3 * 5 = 15\n",
            "3 * 6 = 18\n",
            "3 * 7 = 21\n",
            "3 * 8 = 24\n",
            "3 * 9 = 27\n",
            "3 * 10 = 30\n"
          ]
        }
      ]
    },
    {
      "cell_type": "code",
      "source": [
        "name = input(\"My name: \")\n",
        "age = input(\"My age: \")\n",
        "print(\"Welcome\")"
      ],
      "metadata": {
        "colab": {
          "base_uri": "https://localhost:8080/"
        },
        "id": "Jy9abtbHx18m",
        "outputId": "f809013b-7b92-4064-d6aa-69f8e6c8292f"
      },
      "execution_count": null,
      "outputs": [
        {
          "output_type": "stream",
          "name": "stdout",
          "text": [
            "My name: T\n",
            "My age: 2\n",
            "Welcome\n"
          ]
        }
      ]
    },
    {
      "cell_type": "code",
      "source": [
        "string1=\"Bangladesh\"\n",
        "string2=\"India\"\n",
        "if len(string1)>len(string2):\n",
        " print(f\"The string with the greater length is {string1}\")\n",
        "if len(string1)<len(string2):\n",
        " print(f\"The string with the greater length is {string2}\")\n",
        "else:\n",
        "  print(\"so,Both strings are not  equal length\")"
      ],
      "metadata": {
        "colab": {
          "base_uri": "https://localhost:8080/"
        },
        "id": "HheXcBWCzvoH",
        "outputId": "266c2c47-5edb-48f3-9eca-00c76ebd2e5f"
      },
      "execution_count": null,
      "outputs": [
        {
          "output_type": "stream",
          "name": "stdout",
          "text": [
            "The string with the greater length is Bangladesh\n",
            "so,Both strings are not  equal length\n"
          ]
        }
      ]
    },
    {
      "cell_type": "code",
      "source": [
        "num = [1,4,7,3,2,5,7,2,8]\n",
        "even_total=0\n",
        "for i in num:\n",
        "  if i%2==0:\n",
        "    even_total+=i\n",
        "print(\"sum:\",even_total)\n"
      ],
      "metadata": {
        "colab": {
          "base_uri": "https://localhost:8080/"
        },
        "id": "QmnrySwm2bYj",
        "outputId": "47f65662-08e6-4cc4-9617-0a4a247a29dd"
      },
      "execution_count": null,
      "outputs": [
        {
          "output_type": "stream",
          "name": "stdout",
          "text": [
            "sum: 16\n"
          ]
        }
      ]
    },
    {
      "cell_type": "code",
      "source": [
        "string = \"Tasnova\"\n",
        "length = 0\n",
        "for i in string:\n",
        " length+=1\n",
        " print(length)"
      ],
      "metadata": {
        "colab": {
          "base_uri": "https://localhost:8080/"
        },
        "id": "oi289C9r3eAO",
        "outputId": "286cf9c6-2e6a-4f56-c6ad-656dd5989598"
      },
      "execution_count": null,
      "outputs": [
        {
          "output_type": "stream",
          "name": "stdout",
          "text": [
            "1\n",
            "2\n",
            "3\n",
            "4\n",
            "5\n",
            "6\n",
            "7\n"
          ]
        }
      ]
    },
    {
      "cell_type": "code",
      "source": [
        "person = {\n",
        "  \"Name\": \"Tasnova\",\n",
        "  \"Nationality\": \"Bangladesh\",\n",
        "  \"Relatives\": {\"Father\",\"Mother\",\"sister\",\"Brother\"},\n",
        "   \"Brothers\": {\"1\"},\n",
        "    \"Name\": \"Imran Sharker\",\n",
        "    \"Date of Birth\": \"2000\"\n",
        "    }\n",
        "print(person['Name'])\n",
        "print(person['Nationality'])\n",
        "print(person['Relatives'])\n",
        "print(person['Brothers'])\n",
        "print(person['Name'])\n",
        "print(person['Date of Birth'])\n"
      ],
      "metadata": {
        "colab": {
          "base_uri": "https://localhost:8080/"
        },
        "id": "b-NI_r_I8Va8",
        "outputId": "e5be3b71-896c-4f77-ba2e-6a8c87cfc28a"
      },
      "execution_count": null,
      "outputs": [
        {
          "output_type": "stream",
          "name": "stdout",
          "text": [
            "Imran Sharker\n",
            "Bangladesh\n",
            "{'Father', 'sister', 'Brother', 'Mother'}\n",
            "{'1'}\n",
            "Imran Sharker\n",
            "2000\n"
          ]
        }
      ]
    },
    {
      "cell_type": "code",
      "source": [
        "groceries = ['A', 'B', 'C', 'D','E']\n",
        "for index, item in enumerate(groceries):\n",
        "  if groceries[index] == 'E':\n",
        "    groceries[index] = 'L'\n",
        "print(groceries)"
      ],
      "metadata": {
        "colab": {
          "base_uri": "https://localhost:8080/"
        },
        "id": "eDxciqloAQ2s",
        "outputId": "b497df3c-d292-49e0-b36c-ef3e1916c31f"
      },
      "execution_count": null,
      "outputs": [
        {
          "output_type": "stream",
          "name": "stdout",
          "text": [
            "['A', 'B', 'C', 'D', 'L']\n"
          ]
        }
      ]
    },
    {
      "cell_type": "code",
      "source": [
        "inventory = {\n",
        "    'apple': 10,\n",
        "    'banana': 5,\n",
        "    'orange' : 8\n",
        "}\n",
        "inventory['apple'] += 5\n",
        "if 'grape' not in inventory:\n",
        "  inventory['grape'] = 15\n",
        "  print(inventory)"
      ],
      "metadata": {
        "colab": {
          "base_uri": "https://localhost:8080/"
        },
        "id": "Or7tC_SgASTy",
        "outputId": "cf6846e9-9c68-4511-e0e3-7c2759ff3284"
      },
      "execution_count": null,
      "outputs": [
        {
          "output_type": "stream",
          "name": "stdout",
          "text": [
            "{'apple': 15, 'banana': 5, 'orange': 8, 'grape': 15}\n"
          ]
        }
      ]
    },
    {
      "cell_type": "code",
      "source": [
        "a = 10\n",
        "b = 10.5\n",
        "#c = \" This is a number addition \"\n",
        "#name = \"Printer\"\n",
        "print(a, b, sep=\" + \", end = \"\\n\")\n",
        "print('=', a+b)"
      ],
      "metadata": {
        "colab": {
          "base_uri": "https://localhost:8080/"
        },
        "id": "Zj0V1RTiCEFp",
        "outputId": "cd763a08-8fc8-4c20-f790-887628da8c19"
      },
      "execution_count": null,
      "outputs": [
        {
          "output_type": "stream",
          "name": "stdout",
          "text": [
            "10 + 10.5\n",
            "= 20.5\n"
          ]
        }
      ]
    },
    {
      "cell_type": "code",
      "source": [
        "print(\"Hello Wprld!\")\n"
      ],
      "metadata": {
        "colab": {
          "base_uri": "https://localhost:8080/"
        },
        "id": "xdpTMMrqC2VE",
        "outputId": "3a673daf-bb70-474e-b0c5-99bec4fda752"
      },
      "execution_count": null,
      "outputs": [
        {
          "output_type": "stream",
          "name": "stdout",
          "text": [
            "Hello Wprld!\n"
          ]
        }
      ]
    },
    {
      "cell_type": "code",
      "source": [
        "name = 'Tasnova'\n",
        "age = 23\n",
        "print(f'My name is {name}, I am {age} years old.')"
      ],
      "metadata": {
        "colab": {
          "base_uri": "https://localhost:8080/"
        },
        "id": "6W1CaPqHD5rU",
        "outputId": "4a9c2117-0a57-4bb4-8375-ce67379da614"
      },
      "execution_count": null,
      "outputs": [
        {
          "output_type": "stream",
          "name": "stdout",
          "text": [
            "My name is Tasnova, I am 23 years old.\n"
          ]
        }
      ]
    },
    {
      "cell_type": "code",
      "source": [
        "a = 19\n",
        "b = 20\n",
        "print(a, b, sep=\" + \", end=\"\\n\")\n",
        "print('=', a+b)"
      ],
      "metadata": {
        "colab": {
          "base_uri": "https://localhost:8080/"
        },
        "id": "7QiwcrQ7Ee_G",
        "outputId": "468f2db2-317c-4a11-deb8-573fbf568d90"
      },
      "execution_count": null,
      "outputs": [
        {
          "output_type": "stream",
          "name": "stdout",
          "text": [
            "19 + 20\n",
            "= 39\n"
          ]
        }
      ]
    },
    {
      "cell_type": "code",
      "source": [
        "fruits = ['apple', 'banana', 'orange']\n",
        "print(\"Fruits list:\", fruits)\n",
        "for index, item in enumerate(fruits):\n",
        "  print(index, item)"
      ],
      "metadata": {
        "colab": {
          "base_uri": "https://localhost:8080/"
        },
        "id": "g2TbqvEqGb8N",
        "outputId": "7bbc58c0-9f09-4291-9d54-019250250556"
      },
      "execution_count": null,
      "outputs": [
        {
          "output_type": "stream",
          "name": "stdout",
          "text": [
            "Fruits list: ['apple', 'banana', 'orange']\n",
            "0 apple\n",
            "1 banana\n",
            "2 orange\n"
          ]
        }
      ]
    },
    {
      "cell_type": "code",
      "source": [
        "country = ['Bangladesh', 'India', 'Pakistan']\n",
        "capital = ['Dhaka', 'New Delhi', 'Islamabad']\n",
        "print(country, capital)\n",
        "for country, capital in zip (country, capital):\n",
        " print(f\"Country: {country}, Capital: {capital}\")"
      ],
      "metadata": {
        "colab": {
          "base_uri": "https://localhost:8080/"
        },
        "id": "n9VdkJ1AHlrp",
        "outputId": "0cc48181-f7d8-403d-a62f-d68974837544"
      },
      "execution_count": null,
      "outputs": [
        {
          "output_type": "stream",
          "name": "stdout",
          "text": [
            "['Bangladesh', 'India', 'Pakistan'] ['Dhaka', 'New Delhi', 'Islamabad']\n",
            "Country: Bangladesh, Capital: Dhaka\n",
            "Country: India, Capital: New Delhi\n",
            "Country: Pakistan, Capital: Islamabad\n"
          ]
        }
      ]
    },
    {
      "cell_type": "code",
      "source": [
        "def print_primes_for_loop():\n",
        "    print(\"Prime numbers between 1 and 50 :\")\n",
        "    for num in range(2, 51):\n",
        "        is_prime = True\n",
        "        for i in range(2, num):\n",
        "            if num % i == 0:\n",
        "                is_prime = False\n",
        "                break\n",
        "        if is_prime:\n",
        "            print(num, end=\" \")\n",
        "    print()\n",
        "\n",
        "#  a while loop\n",
        "def print_primes_while_loop():\n",
        "    print(\"Prime numbers between 1 and 50 :\")\n",
        "    num = 2\n",
        "    while num <= 50:\n",
        "        is_prime = True\n",
        "        i = 2\n",
        "        while i < num:\n",
        "            if num % i == 0:\n",
        "                is_prime = False\n",
        "                break\n",
        "            i += 1\n",
        "        if is_prime:\n",
        "            print(num, end=\" \")\n",
        "        num += 1\n",
        "    print()\n",
        "\n",
        "# Call the functions\n",
        "print_primes_for_loop()\n",
        "print_primes_while_loop()\n"
      ],
      "metadata": {
        "colab": {
          "base_uri": "https://localhost:8080/"
        },
        "id": "z10nm-_wJDEM",
        "outputId": "d3761329-2044-4d37-a165-a84800024efd"
      },
      "execution_count": null,
      "outputs": [
        {
          "output_type": "stream",
          "name": "stdout",
          "text": [
            "Prime numbers between 1 and 50 :\n",
            "2 3 5 7 11 13 17 19 23 29 31 37 41 43 47 \n",
            "Prime numbers between 1 and 50 :\n",
            "2 3 5 7 11 13 17 19 23 29 31 37 41 43 47 \n"
          ]
        }
      ]
    },
    {
      "cell_type": "code",
      "source": [
        "stat = {\n",
        "    'Alia': 85,\n",
        "    'Boby': 72,\n",
        "    'Chameli': 45,\n",
        "    'Disha': 63,\n",
        "    'Ema': 91\n",
        "}\n",
        "\n",
        "def get_grade(mark):\n",
        "    if 80  <= 100:\n",
        "        return \"A+\"\n",
        "    elif 70  < 80:\n",
        "        return \"A\"\n",
        "    elif 60  < 70:\n",
        "        return \"A-\"\n",
        "    elif 50  < 60:\n",
        "        return \"B\"\n",
        "    else:\n",
        "        return \"F\"\n",
        "\n",
        "for student, mark in stat.items():\n",
        "    grade = get_grade(mark)\n",
        "    print(f\"{student} received a grade of {grade}\")\n"
      ],
      "metadata": {
        "colab": {
          "base_uri": "https://localhost:8080/"
        },
        "id": "t0VMY06eSp5y",
        "outputId": "a1d3a139-cf1e-4fc1-96a1-1d6bdadcd7ba"
      },
      "execution_count": null,
      "outputs": [
        {
          "output_type": "stream",
          "name": "stdout",
          "text": [
            "Alia received a grade of A+\n",
            "Boby received a grade of A+\n",
            "Chameli received a grade of A+\n",
            "Disha received a grade of A+\n",
            "Ema received a grade of A+\n"
          ]
        }
      ]
    },
    {
      "cell_type": "code",
      "source": [
        "side_of_square = input(\"Give length of a side of square: \")\n",
        "square_area = int(side_of_square) **2\n",
        "print(f'Here is the area of a square : {square_area}')"
      ],
      "metadata": {
        "colab": {
          "base_uri": "https://localhost:8080/"
        },
        "id": "GgaDF_1AbIs5",
        "outputId": "d5356544-5376-465f-fd93-373de91dd0f7"
      },
      "execution_count": null,
      "outputs": [
        {
          "output_type": "stream",
          "name": "stdout",
          "text": [
            "Give length of a side of square: 10\n",
            "Here is the area of a square : 100\n"
          ]
        }
      ]
    },
    {
      "cell_type": "code",
      "source": [
        "name = \"Tasnova\"\n",
        "print(len(name))"
      ],
      "metadata": {
        "colab": {
          "base_uri": "https://localhost:8080/"
        },
        "id": "Ugk6ir2Igvub",
        "outputId": "2f742ebb-d3a6-4a86-d19a-5c080a117d81"
      },
      "execution_count": null,
      "outputs": [
        {
          "output_type": "stream",
          "name": "stdout",
          "text": [
            "7\n"
          ]
        }
      ]
    },
    {
      "cell_type": "code",
      "source": [
        "a = 10\n",
        "b = 5\n",
        "print(\"ab=\", a*b)\n",
        "print(\"a/b=\", a/b)\n",
        "#print(\"a%b\", a%b)\n",
        "print(a % b)"
      ],
      "metadata": {
        "colab": {
          "base_uri": "https://localhost:8080/"
        },
        "id": "hPW3I_i4l6fr",
        "outputId": "befa2336-1e00-44b1-ab9a-6819917e1b69"
      },
      "execution_count": null,
      "outputs": [
        {
          "output_type": "stream",
          "name": "stdout",
          "text": [
            "ab= 50\n",
            "a/b= 2.0\n",
            "0\n"
          ]
        }
      ]
    }
  ],
  "metadata": {
    "colab": {
      "provenance": [],
      "authorship_tag": "ABX9TyNdF0vtfnAFJWb1wsMXQOpM",
      "include_colab_link": true
    },
    "kernelspec": {
      "display_name": "Python 3",
      "name": "python3"
    },
    "language_info": {
      "name": "python"
    }
  },
  "nbformat": 4,
  "nbformat_minor": 0
}