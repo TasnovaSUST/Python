{
  "nbformat": 4,
  "nbformat_minor": 0,
  "metadata": {
    "colab": {
      "provenance": [],
      "authorship_tag": "ABX9TyOuxdxQF75LLl1Mf97TEJGC",
      "include_colab_link": true
    },
    "kernelspec": {
      "name": "python3",
      "display_name": "Python 3"
    },
    "language_info": {
      "name": "python"
    }
  },
  "cells": [
    {
      "cell_type": "markdown",
      "metadata": {
        "id": "view-in-github",
        "colab_type": "text"
      },
      "source": [
        "<a href=\"https://colab.research.google.com/github/TasnovaSUST/Python/blob/main/Final_.ipynb\" target=\"_parent\"><img src=\"https://colab.research.google.com/assets/colab-badge.svg\" alt=\"Open In Colab\"/></a>"
      ]
    },
    {
      "cell_type": "markdown",
      "source": [
        "Generators"
      ],
      "metadata": {
        "id": "Nzt2Jt6RUTeT"
      }
    },
    {
      "cell_type": "code",
      "execution_count": null,
      "metadata": {
        "colab": {
          "base_uri": "https://localhost:8080/"
        },
        "id": "i7KuLv6WrCVY",
        "outputId": "1fb8bc6e-2214-4508-8a5b-249ebc606279"
      },
      "outputs": [
        {
          "output_type": "stream",
          "name": "stdout",
          "text": [
            "1\n",
            "2\n",
            "3\n"
          ]
        }
      ],
      "source": [
        "def number_generator():\n",
        "    for i in range(1, 4):\n",
        "        yield i\n",
        "\n",
        "# Create the generator\n",
        "gen = number_generator()\n",
        "\n",
        "# Get values from the generator\n",
        "print(next(gen))\n",
        "print(next(gen))\n",
        "print(next(gen))"
      ]
    },
    {
      "cell_type": "code",
      "source": [
        "def even_number_generator():\n",
        "    for i in range(1, 10):\n",
        "        if i % 2 == 0:\n",
        "            yield i\n",
        "\n",
        "gen = even_number_generator()\n",
        "print(next(gen))\n",
        "print(next(gen))\n",
        "print(next(gen))\n",
        "print(next(gen))\n"
      ],
      "metadata": {
        "colab": {
          "base_uri": "https://localhost:8080/"
        },
        "id": "84u4CoFWudl8",
        "outputId": "81d76ca2-e18b-4029-ecfb-df5c8c103aa8"
      },
      "execution_count": null,
      "outputs": [
        {
          "output_type": "stream",
          "name": "stdout",
          "text": [
            "2\n",
            "4\n",
            "6\n",
            "8\n"
          ]
        }
      ]
    },
    {
      "cell_type": "code",
      "source": [
        "# Generator expression for squares of numbers\n",
        "squares = (x**2 for x in range(1, 10))\n",
        "print(next(squares))\n",
        "print(next(squares))\n",
        "print(next(squares))\n",
        "print(next(squares))\n",
        "print(next(squares))\n",
        "print(next(squares))\n",
        "print(next(squares))\n",
        "print(next(squares))\n",
        "print(next(squares))"
      ],
      "metadata": {
        "colab": {
          "base_uri": "https://localhost:8080/"
        },
        "id": "flQ2OPLMzWoM",
        "outputId": "9161bbe2-6119-45ee-ac48-7192adb42013"
      },
      "execution_count": 5,
      "outputs": [
        {
          "output_type": "stream",
          "name": "stdout",
          "text": [
            "1\n",
            "4\n",
            "9\n",
            "16\n",
            "25\n",
            "36\n",
            "49\n",
            "64\n",
            "81\n"
          ]
        }
      ]
    },
    {
      "cell_type": "code",
      "source": [
        "cubes = (x**3 for x in range(1, 6))\n",
        "print(next(cubes))\n",
        "print(next(cubes))\n",
        "print(next(cubes))\n",
        "print(next(cubes))\n",
        "print(next(cubes))"
      ],
      "metadata": {
        "colab": {
          "base_uri": "https://localhost:8080/"
        },
        "id": "8VOYRacB01bB",
        "outputId": "e1439849-1936-4b25-89bd-f23ac9dff54b"
      },
      "execution_count": 6,
      "outputs": [
        {
          "output_type": "stream",
          "name": "stdout",
          "text": [
            "1\n",
            "8\n",
            "27\n",
            "64\n",
            "125\n"
          ]
        }
      ]
    },
    {
      "cell_type": "markdown",
      "source": [
        "Closures"
      ],
      "metadata": {
        "id": "BpSWFVt55zZI"
      }
    },
    {
      "cell_type": "code",
      "source": [
        "def outer_function(x):\n",
        "    def inner_function(y):\n",
        "        return x + y\n",
        "    return inner_function\n",
        "\n",
        "closure = outer_function(10)\n",
        "print(closure(5))"
      ],
      "metadata": {
        "colab": {
          "base_uri": "https://localhost:8080/"
        },
        "id": "E8xNpG6m5zJQ",
        "outputId": "0feba841-369e-4fc2-bedd-b0daa576c3f1"
      },
      "execution_count": 7,
      "outputs": [
        {
          "output_type": "stream",
          "name": "stdout",
          "text": [
            "15\n"
          ]
        }
      ]
    },
    {
      "cell_type": "code",
      "source": [
        "def power_outer(x):\n",
        "  def power_inner(y):\n",
        "    return x**y\n",
        "  return power_inner\n",
        "\n",
        "square = power_outer(2)\n",
        "print(square(10))"
      ],
      "metadata": {
        "colab": {
          "base_uri": "https://localhost:8080/"
        },
        "id": "72gNDPNQ68zO",
        "outputId": "6b483ed6-ac3e-4ecc-d9d0-ee18cc3635c4"
      },
      "execution_count": 9,
      "outputs": [
        {
          "output_type": "stream",
          "name": "stdout",
          "text": [
            "1024\n"
          ]
        }
      ]
    },
    {
      "cell_type": "code",
      "source": [
        "def power_outer(x):\n",
        "  def power_inner(y):\n",
        "    return y**x\n",
        "  return power_inner\n",
        "\n",
        "cube = power_outer(3)\n",
        "print(cube(10))"
      ],
      "metadata": {
        "colab": {
          "base_uri": "https://localhost:8080/"
        },
        "id": "BXahPmbF7Vut",
        "outputId": "59bb390c-1e56-46eb-c510-8c87e5776655"
      },
      "execution_count": 11,
      "outputs": [
        {
          "output_type": "stream",
          "name": "stdout",
          "text": [
            "1000\n"
          ]
        }
      ]
    },
    {
      "cell_type": "code",
      "source": [
        "def counter():\n",
        "    c = 0\n",
        "    def make_count():\n",
        "      nonlocal c\n",
        "      c += 1\n",
        "      return c\n",
        "    return make_count\n",
        "\n",
        "count = counter()\n",
        "print(count())\n",
        "print(count())\n",
        "\n",
        "\n",
        "count2 = counter()\n",
        "print(count2())\n",
        "print(count())"
      ],
      "metadata": {
        "colab": {
          "base_uri": "https://localhost:8080/"
        },
        "id": "yXPrUBc48H9u",
        "outputId": "71e073cb-084b-4d08-fb0a-93a26af3d053"
      },
      "execution_count": 17,
      "outputs": [
        {
          "output_type": "stream",
          "name": "stdout",
          "text": [
            "1\n",
            "2\n",
            "1\n",
            "3\n"
          ]
        }
      ]
    },
    {
      "cell_type": "markdown",
      "source": [
        "Decorators"
      ],
      "metadata": {
        "id": "PsSylbXtUKZU"
      }
    },
    {
      "cell_type": "code",
      "source": [
        "def greet_decorator(func):\n",
        "    def wrapper():\n",
        "        print(\"Hello!\")\n",
        "        func()\n",
        "        print(\"Nice to meet you!\")\n",
        "    return wrapper\n",
        "\n",
        "@greet_decorator\n",
        "def ordinary():\n",
        "  print(\"I am Tasnova Islam\")\n",
        "\n",
        "@greet_decorator\n",
        "def ordinary2():\n",
        "  print(\"See you again\")\n",
        "\n",
        "ordinary()\n"
      ],
      "metadata": {
        "colab": {
          "base_uri": "https://localhost:8080/"
        },
        "id": "mcyXCy01DAQg",
        "outputId": "301531b8-3940-45e0-b384-ca817a5b00c9"
      },
      "execution_count": 30,
      "outputs": [
        {
          "output_type": "stream",
          "name": "stdout",
          "text": [
            "Hello!\n",
            "I am Tasnova Islam\n",
            "Nice to meet you!\n"
          ]
        }
      ]
    },
    {
      "cell_type": "code",
      "source": [
        "def greet_decorator(func):\n",
        "    def wrapper():\n",
        "        print(\"Hello!\")\n",
        "        func()\n",
        "        print(\"Goodbye!\")\n",
        "    return wrapper\n",
        "\n",
        "@greet_decorator\n",
        "def my_function():\n",
        "    print(\"I am learning decorators!\")\n",
        "\n",
        "my_function()"
      ],
      "metadata": {
        "colab": {
          "base_uri": "https://localhost:8080/"
        },
        "id": "peDEiqj6Z2IH",
        "outputId": "068ccfb9-33d4-4759-f74b-d8ec0103755e"
      },
      "execution_count": 31,
      "outputs": [
        {
          "output_type": "stream",
          "name": "stdout",
          "text": [
            "Hello!\n",
            "I am learning decorators!\n",
            "Goodbye!\n"
          ]
        }
      ]
    },
    {
      "cell_type": "code",
      "source": [
        "from time import time"
      ],
      "metadata": {
        "id": "kalW9eq5cIJ0"
      },
      "execution_count": 33,
      "outputs": []
    },
    {
      "cell_type": "code",
      "source": [
        "def timer_decorator(func):\n",
        "  def wrapper():\n",
        "    start_time = time()\n",
        "    ret_val = func()\n",
        "    end_time = time()\n",
        "    print(\"Elapsed Time: \", end_time - start_time)\n",
        "    return ret_val\n",
        "\n",
        "  return wrapper"
      ],
      "metadata": {
        "id": "1qxZwjcJcFRE"
      },
      "execution_count": 34,
      "outputs": []
    },
    {
      "cell_type": "code",
      "source": [
        "@greet_decorator\n",
        "@timer_decorator\n",
        "def my_function():\n",
        "    print(\"I am learning decorators!\")\n",
        "\n",
        "my_function()"
      ],
      "metadata": {
        "colab": {
          "base_uri": "https://localhost:8080/"
        },
        "id": "Z6YCEayTfctY",
        "outputId": "e0ca7054-784e-4e85-bbd1-a0df055df77d"
      },
      "execution_count": 36,
      "outputs": [
        {
          "output_type": "stream",
          "name": "stdout",
          "text": [
            "Hello!\n",
            "I am learning decorators!\n",
            "Elapsed Time:  1.4543533325195312e-05\n",
            "Goodbye!\n"
          ]
        }
      ]
    },
    {
      "cell_type": "code",
      "source": [
        "# prompt: Create a 2D NumPy array of random integers between 1 and 50.\n",
        "# Perform the following:\n",
        "# Find the mean of all elements.\n",
        "# Transpose the array.\n",
        "# Sort the array along rows.\n",
        "# Extract all elements greater than 25.\n",
        "# Perform matrix multiplication between the original and transposed array\n",
        "\n",
        "import numpy as np\n",
        "\n",
        "# Create a 2D NumPy array of random integers between 1 and 50\n",
        "array_2d = np.random.randint(1, 51, size=(5, 5))  # Example: 5x5 array\n",
        "\n",
        "# Find the mean of all elements\n",
        "mean_value = np.mean(array_2d)\n",
        "print(\"Mean of all elements:\", mean_value)\n",
        "\n",
        "# Transpose the array\n",
        "transposed_array = np.transpose(array_2d)\n",
        "print(\"\\nTransposed array:\\n\", transposed_array)\n",
        "\n",
        "\n",
        "# Sort the array along rows\n",
        "sorted_array = np.sort(array_2d, axis=1)\n",
        "print(\"\\nSorted array along rows:\\n\", sorted_array)\n",
        "\n",
        "# Extract all elements greater than 25\n",
        "elements_greater_than_25 = array_2d[array_2d > 25]\n",
        "print(\"\\nElements greater than 25:\\n\", elements_greater_than_25)\n",
        "\n",
        "# Perform matrix multiplication between the original and transposed array\n",
        "matrix_product = np.matmul(array_2d, transposed_array)\n",
        "print(\"\\nMatrix product of original and transposed array:\\n\", matrix_product)"
      ],
      "metadata": {
        "colab": {
          "base_uri": "https://localhost:8080/"
        },
        "id": "p2H7UO2w0Jfl",
        "outputId": "32bfcd39-caea-4a4e-8420-c986a373b5cf"
      },
      "execution_count": 42,
      "outputs": [
        {
          "output_type": "stream",
          "name": "stdout",
          "text": [
            "Mean of all elements: 26.56\n",
            "\n",
            "Transposed array:\n",
            " [[44 17 20 37  2]\n",
            " [47 27  8 23 36]\n",
            " [38 36 19 14 24]\n",
            " [17 27  3 38 45]\n",
            " [32 28  3 38 41]]\n",
            "\n",
            "Sorted array along rows:\n",
            " [[17 32 38 44 47]\n",
            " [17 27 27 28 36]\n",
            " [ 3  3  8 19 20]\n",
            " [14 23 37 38 38]\n",
            " [ 2 24 36 41 45]]\n",
            "\n",
            "Elements greater than 25:\n",
            " [44 47 38 32 27 36 27 28 37 38 38 36 45 41]\n",
            "\n",
            "Matrix product of original and transposed array:\n",
            " [[6902 4740 2125 5103 4769]\n",
            " [4740 3827 1405 3844 4233]\n",
            " [2125 1405  843 1418 1042]\n",
            " [5103 3844 1418 4982 4506]\n",
            " [4769 4233 1042 4506 5582]]\n"
          ]
        }
      ]
    }
  ]
}